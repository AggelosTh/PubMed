{
 "cells": [
  {
   "cell_type": "code",
   "execution_count": 3,
   "metadata": {},
   "outputs": [],
   "source": [
    "from load_data import df\n",
    "from sklearn.model_selection import train_test_split\n",
    "from mlmodel import SBertModel, device, sbert\n",
    "import torch\n",
    "import torch.optim as optim\n",
    "import torch.nn as nn\n",
    "from torch.utils.data import DataLoader, TensorDataset\n",
    "from tqdm import tqdm\n",
    "from torch.optim.lr_scheduler import ReduceLROnPlateau"
   ]
  },
  {
   "cell_type": "code",
   "execution_count": null,
   "metadata": {},
   "outputs": [],
   "source": [
    "# Best model so far, SBertModel2 lr=0.001, val_acc for scheduler\n",
    "# SbertModel3 same parameters but 1000 units also good"
   ]
  },
  {
   "cell_type": "code",
   "execution_count": 4,
   "metadata": {},
   "outputs": [],
   "source": [
    "# Convert the text and label columns to list\n",
    "X = df['text'].tolist()\n",
    "y = df['labels'].tolist()\n",
    "\n",
    "num_of_labels = len(y[0]) # = 14\n",
    "\n",
    "# Train test split\n",
    "X_train_text, X_temp_text, y_train, y_temp = train_test_split(X, y, test_size=0.2, random_state=42)\n",
    "X_val_text, X_test_text, y_val, y_test = train_test_split(X_temp_text, y_temp, test_size=0.5, random_state=42)"
   ]
  },
  {
   "cell_type": "code",
   "execution_count": null,
   "metadata": {},
   "outputs": [],
   "source": [
    "# Encode the sets with the pre-trained sentence transformer\n",
    "x_train = sbert.encode(X_train_text, device=device)\n",
    "x_val = sbert.encode(X_val_text, device=device)\n",
    "x_test = sbert.encode(X_test_text, device=device)\n",
    "\n",
    "input_dimension = x_train.shape[1]"
   ]
  },
  {
   "cell_type": "code",
   "execution_count": null,
   "metadata": {},
   "outputs": [],
   "source": [
    "# Convert the encoded data into tensors\n",
    "x_train_tensor = torch.tensor(x_train, dtype=torch.float32).to(device)\n",
    "y_train_tensor = torch.tensor(y_train, dtype=torch.float32).to(device)\n",
    "x_val_tensor = torch.tensor(x_val, dtype=torch.float32).to(device)\n",
    "y_val_tensor = torch.tensor(y_val, dtype=torch.float32).to(device)\n",
    "\n",
    "# Create DataLoader for train and dev sets\n",
    "train_dataset = TensorDataset(x_train_tensor, y_train_tensor)\n",
    "train_loader = DataLoader(train_dataset, batch_size=64, shuffle=True)\n",
    "\n",
    "val_dataset = TensorDataset(x_val_tensor, y_val_tensor)\n",
    "val_loader = DataLoader(val_dataset, batch_size=32, shuffle=True)"
   ]
  },
  {
   "cell_type": "code",
   "execution_count": 15,
   "metadata": {},
   "outputs": [],
   "source": [
    "# Initialize the model, loss function, optimizer and scheduler\n",
    "model = SBertModel(input_dimension, num_of_labels).to(device)\n",
    "criterion = nn.BCEWithLogitsLoss()\n",
    "optimizer = optim.Adam(model.parameters(), lr=0.001)\n",
    "scheduler = ReduceLROnPlateau(optimizer, mode='max', patience=5, factor=0.1)"
   ]
  },
  {
   "cell_type": "code",
   "execution_count": null,
   "metadata": {},
   "outputs": [],
   "source": [
    "# Perform the training process\n",
    "best_val_acc = 0\n",
    "num_epochs = 200\n",
    "early_stopping = 15\n",
    "\n",
    "for epoch in range(num_epochs):\n",
    "    model.train()\n",
    "    running_loss = 0.0\n",
    "    correct_train = 0\n",
    "    total_train = 0\n",
    "    \n",
    "    train_loader_tqdm = tqdm(train_loader, desc=f'Epoch {epoch+1}/{num_epochs}', unit='batch')\n",
    "    \n",
    "    for inputs, labels in train_loader_tqdm:\n",
    "        optimizer.zero_grad()\n",
    "        outputs = model(inputs)\n",
    "        loss = criterion(outputs, labels)\n",
    "        loss.backward()\n",
    "        optimizer.step()\n",
    "        running_loss += loss.item()\n",
    "        predicted = (torch.sigmoid(outputs) > 0.5).float()\n",
    "        total_train += labels.numel()\n",
    "        correct_train += (predicted == labels).sum().item()\n",
    "        train_loader_tqdm.set_postfix(training_loss=running_loss / len(train_loader))\n",
    "    \n",
    "    # Calculate loss and accuracy\n",
    "    train_loss = running_loss / len(train_loader)\n",
    "    train_acc = correct_train / total_train\n",
    "    \n",
    "    val_loss = 0\n",
    "    correct = 0\n",
    "    total = 0\n",
    "\n",
    "    print(f'Epoch {epoch+1}/{num_epochs}, Training Loss: {train_loss}, Training Accuracy: {train_acc:.4f}')\n",
    "    \n",
    "    model.eval()\n",
    "    val_loader_tqdm = tqdm(val_loader, desc=f'Epoch {epoch+1}/{num_epochs}', unit='batch')\n",
    "    \n",
    "    with torch.no_grad():\n",
    "        for inputs, labels in val_loader_tqdm:\n",
    "            inputs, labels = inputs.to(device), labels.to(device)\n",
    "            \n",
    "            outputs = model(inputs)\n",
    "            loss = criterion(outputs, labels)\n",
    "            val_loss += loss.item()\n",
    "\n",
    "            predicted = (torch.sigmoid(outputs) > 0.5).float()\n",
    "            correct += (predicted == labels).sum().item()\n",
    "            total += labels.numel()\n",
    "            val_loader_tqdm.set_postfix(accuracy=correct / total)\n",
    "    \n",
    "    # Calculate validation loss and validation accuracy and update the scheduler\n",
    "    val_loss /= len(val_loader)\n",
    "    val_acc = correct / total\n",
    "    scheduler.step(val_acc)\n",
    "    \n",
    "    print(f'Epoch {epoch+1}/{num_epochs}, Val Loss: {val_loss}, Val Accuracy: {val_acc:.4f}')\n",
    "    print(\"Current learning rate: \", scheduler.get_last_lr())\n",
    "\n",
    "    if val_acc > best_val_acc:\n",
    "        best_val_acc = val_acc\n",
    "        best_model_wts = model.state_dict().copy()\n",
    "        torch.save(best_model_wts, 'best_model.pth')\n",
    "        early_stopping_counter = 0\n",
    "    else:\n",
    "        early_stopping_counter += 1\n",
    "    \n",
    "    if early_stopping_counter >= early_stopping:\n",
    "        print('Early stopping')\n",
    "        model.load_state_dict(best_model_wts)\n",
    "        break        "
   ]
  },
  {
   "cell_type": "code",
   "execution_count": 11,
   "metadata": {},
   "outputs": [],
   "source": [
    "# Convert the test data to tensors\n",
    "x_test_tensor = torch.tensor(x_test, dtype=torch.float32).to(device)\n",
    "y_test_tensor = torch.tensor(y_test, dtype=torch.long).to(device)\n",
    "\n",
    "# Create DataLoader for test dataset\n",
    "test_dataset = TensorDataset(x_test_tensor, y_test_tensor)\n",
    "test_loader = DataLoader(test_dataset, batch_size=16, shuffle=False)"
   ]
  },
  {
   "cell_type": "code",
   "execution_count": 22,
   "metadata": {},
   "outputs": [
    {
     "name": "stderr",
     "output_type": "stream",
     "text": [
      "Evaluating: 100%|██████████| 313/313 [00:00<00:00, 1021.99batch/s]"
     ]
    },
    {
     "name": "stdout",
     "output_type": "stream",
     "text": [
      "Test Accuracy: 0.1388\n",
      "              precision    recall  f1-score   support\n",
      "\n",
      "           0       0.77      0.75      0.76      2333\n",
      "           1       0.96      0.99      0.98      4670\n",
      "           2       0.84      0.86      0.85      2715\n",
      "           3       0.90      0.92      0.91      3107\n",
      "           4       0.81      0.94      0.87      3917\n",
      "           5       0.79      0.70      0.74       859\n",
      "           6       0.82      0.89      0.85      3312\n",
      "           7       0.32      0.03      0.05       572\n",
      "           8       0.67      0.55      0.60       564\n",
      "           9       0.65      0.43      0.51       554\n",
      "          10       0.62      0.41      0.50       738\n",
      "          11       0.84      0.91      0.87      2112\n",
      "          12       0.80      0.76      0.78      2251\n",
      "          13       0.72      0.73      0.72       797\n",
      "\n",
      "   micro avg       0.84      0.84      0.84     28501\n",
      "   macro avg       0.75      0.70      0.71     28501\n",
      "weighted avg       0.82      0.84      0.83     28501\n",
      " samples avg       0.84      0.84      0.83     28501\n",
      "\n",
      "Test F1 Score (micro average): 0.8366\n"
     ]
    },
    {
     "name": "stderr",
     "output_type": "stream",
     "text": [
      "\n"
     ]
    }
   ],
   "source": [
    "from sklearn.metrics import classification_report, f1_score\n",
    "import numpy as np\n",
    "\n",
    "all_preds = []\n",
    "all_labels = []\n",
    "\n",
    "with torch.no_grad():\n",
    "    for inputs, labels in tqdm(test_loader, desc='Evaluating', unit='batch'):\n",
    "        outputs = model(inputs)\n",
    "        predicted = torch.sigmoid(outputs) > 0.5\n",
    "        predicted = predicted.float()\n",
    "        all_preds.extend(predicted.cpu().numpy())\n",
    "        all_labels.extend(labels.cpu().numpy())\n",
    "\n",
    "all_preds = np.array(all_preds)\n",
    "all_labels = np.array(all_labels)\n",
    "\n",
    "print(classification_report(all_labels, all_preds, target_names=[str(i) for i in range(num_of_labels)], zero_division=0))\n",
    "\n",
    "f1 = f1_score(all_labels, all_preds, average='micro')\n",
    "print(f'Test F1 Score (micro average): {f1:.4f}')"
   ]
  }
 ],
 "metadata": {
  "kernelspec": {
   "display_name": "wiley_env",
   "language": "python",
   "name": "python3"
  },
  "language_info": {
   "codemirror_mode": {
    "name": "ipython",
    "version": 3
   },
   "file_extension": ".py",
   "mimetype": "text/x-python",
   "name": "python",
   "nbconvert_exporter": "python",
   "pygments_lexer": "ipython3",
   "version": "3.10.15"
  }
 },
 "nbformat": 4,
 "nbformat_minor": 2
}
